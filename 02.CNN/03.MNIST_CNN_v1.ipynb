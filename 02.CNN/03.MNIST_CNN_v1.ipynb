{
  "nbformat": 4,
  "nbformat_minor": 0,
  "metadata": {
    "colab": {
      "name": "Untitled1.ipynb",
      "provenance": []
    },
    "kernelspec": {
      "name": "python3",
      "display_name": "Python 3"
    },
    "language_info": {
      "name": "python"
    },
    "accelerator": "GPU"
  },
  "cells": [
    {
      "cell_type": "markdown",
      "source": [
        "# MNIST 손글씨 - CNN v1\n",
        "- 2 Conv2D layers\n",
        "- 1 Fully Connected Network layer\n",
        "- 1 Output layer"
      ],
      "metadata": {
        "id": "QMUlE26uoQTk"
      }
    },
    {
      "cell_type": "code",
      "execution_count": 1,
      "metadata": {
        "id": "KIU6C73RoP4W"
      },
      "outputs": [],
      "source": [
        "import numpy as np\n",
        "import tensorflow as tf\n",
        "seed = 2022\n",
        "np.random.seed(seed)\n",
        "tf.random.set_seed(seed)"
      ]
    },
    {
      "cell_type": "markdown",
      "source": [
        "- 데이터 전처리"
      ],
      "metadata": {
        "id": "dz15iT3Yopzk"
      }
    },
    {
      "cell_type": "code",
      "source": [
        "from tensorflow.keras.datasets import mnist\n",
        "(X_train, y_train), (X_test, y_test) = mnist.load_data()"
      ],
      "metadata": {
        "colab": {
          "base_uri": "https://localhost:8080/"
        },
        "id": "DEGstzAPosSl",
        "outputId": "eef42067-8d19-4bad-ea57-1e6ac5909b8b"
      },
      "execution_count": 2,
      "outputs": [
        {
          "output_type": "stream",
          "name": "stdout",
          "text": [
            "Downloading data from https://storage.googleapis.com/tensorflow/tf-keras-datasets/mnist.npz\n",
            "11493376/11490434 [==============================] - 0s 0us/step\n",
            "11501568/11490434 [==============================] - 0s 0us/step\n"
          ]
        }
      ]
    },
    {
      "cell_type": "code",
      "source": [
        "# X_data: 0~1 사이의 값, 3차원 --> 4차원\n",
        "X_train = X_train.reshape(-1,28,28,1) / 255.\n",
        "X_test = X_test.reshape(-1,28,28,1) / 255."
      ],
      "metadata": {
        "id": "VFUO8ckgo30X"
      },
      "execution_count": 3,
      "outputs": []
    },
    {
      "cell_type": "code",
      "source": [
        "# One-hot encoding\n",
        "from tensorflow.keras.utils import to_categorical\n",
        "Y_train = to_categorical(y_train)\n",
        "Y_test = to_categorical(y_test)"
      ],
      "metadata": {
        "id": "1kkOoofYpRJx"
      },
      "execution_count": 4,
      "outputs": []
    },
    {
      "cell_type": "markdown",
      "source": [
        "- 모델 정의, 설정, 학습, 평가"
      ],
      "metadata": {
        "id": "MYzmZvjfp62q"
      }
    },
    {
      "cell_type": "code",
      "source": [
        "from tensorflow.keras.models import Sequential, load_model\n",
        "from tensorflow.keras.layers import Dense, Conv2D, Flatten\n",
        "from tensorflow.keras.callbacks import ModelCheckpoint, EarlyStopping"
      ],
      "metadata": {
        "id": "V6T0zFBnqB4_"
      },
      "execution_count": 5,
      "outputs": []
    },
    {
      "cell_type": "code",
      "source": [
        "model = Sequential([\n",
        "    Conv2D(32, kernel_size=(3,3), input_shape=(28, 28, 1), activation='relu'),\n",
        "    Conv2D(64, (3,3), activation='relu'),\n",
        "    Flatten(),\n",
        "    Dense(512, activation='relu'),\n",
        "    Dense(10, activation='softmax')\n",
        "])\n",
        "model.summary()"
      ],
      "metadata": {
        "colab": {
          "base_uri": "https://localhost:8080/"
        },
        "id": "Qorr-5Nbqlby",
        "outputId": "93f3d68c-33f5-45a8-b0cc-3e4925fdeaad"
      },
      "execution_count": 6,
      "outputs": [
        {
          "output_type": "stream",
          "name": "stdout",
          "text": [
            "Model: \"sequential\"\n",
            "_________________________________________________________________\n",
            " Layer (type)                Output Shape              Param #   \n",
            "=================================================================\n",
            " conv2d (Conv2D)             (None, 26, 26, 32)        320       \n",
            "                                                                 \n",
            " conv2d_1 (Conv2D)           (None, 24, 24, 64)        18496     \n",
            "                                                                 \n",
            " flatten (Flatten)           (None, 36864)             0         \n",
            "                                                                 \n",
            " dense (Dense)               (None, 512)               18874880  \n",
            "                                                                 \n",
            " dense_1 (Dense)             (None, 10)                5130      \n",
            "                                                                 \n",
            "=================================================================\n",
            "Total params: 18,898,826\n",
            "Trainable params: 18,898,826\n",
            "Non-trainable params: 0\n",
            "_________________________________________________________________\n"
          ]
        }
      ]
    },
    {
      "cell_type": "code",
      "source": [
        "model.compile(optimizer='adam', loss='categorical_crossentropy', metrics=['accuracy'])"
      ],
      "metadata": {
        "id": "tGwgLbiErZ0D"
      },
      "execution_count": 7,
      "outputs": []
    },
    {
      "cell_type": "code",
      "source": [
        "model_path = 'best-mnist-cnn-1.h5'\n",
        "checkpoint = ModelCheckpoint(model_path, save_best_only=True, verbose=1)\n",
        "early_stop = EarlyStopping(patience=10)"
      ],
      "metadata": {
        "id": "3BLlWyOpsrdU"
      },
      "execution_count": 8,
      "outputs": []
    },
    {
      "cell_type": "code",
      "source": [
        "hist = model.fit(\n",
        "    X_train, Y_train, validation_split=0.2, epochs=100, batch_size=200, \n",
        "    callbacks=[checkpoint, early_stop]\n",
        ")"
      ],
      "metadata": {
        "colab": {
          "base_uri": "https://localhost:8080/"
        },
        "id": "tvtutmlotAIS",
        "outputId": "084473e6-9a80-44eb-d69d-6bf7b76a9dd6"
      },
      "execution_count": 9,
      "outputs": [
        {
          "output_type": "stream",
          "name": "stdout",
          "text": [
            "Epoch 1/100\n",
            "240/240 [==============================] - ETA: 0s - loss: 0.1521 - accuracy: 0.9532\n",
            "Epoch 00001: val_loss improved from inf to 0.05548, saving model to best-mnist-cnn-1.h5\n",
            "240/240 [==============================] - 25s 50ms/step - loss: 0.1521 - accuracy: 0.9532 - val_loss: 0.0555 - val_accuracy: 0.9835\n",
            "Epoch 2/100\n",
            "240/240 [==============================] - ETA: 0s - loss: 0.0351 - accuracy: 0.9893\n",
            "Epoch 00002: val_loss improved from 0.05548 to 0.05348, saving model to best-mnist-cnn-1.h5\n",
            "240/240 [==============================] - 11s 47ms/step - loss: 0.0351 - accuracy: 0.9893 - val_loss: 0.0535 - val_accuracy: 0.9852\n",
            "Epoch 3/100\n",
            "239/240 [============================>.] - ETA: 0s - loss: 0.0176 - accuracy: 0.9945\n",
            "Epoch 00003: val_loss improved from 0.05348 to 0.04386, saving model to best-mnist-cnn-1.h5\n",
            "240/240 [==============================] - 11s 48ms/step - loss: 0.0175 - accuracy: 0.9945 - val_loss: 0.0439 - val_accuracy: 0.9877\n",
            "Epoch 4/100\n",
            "240/240 [==============================] - ETA: 0s - loss: 0.0104 - accuracy: 0.9965\n",
            "Epoch 00004: val_loss did not improve from 0.04386\n",
            "240/240 [==============================] - 11s 47ms/step - loss: 0.0104 - accuracy: 0.9965 - val_loss: 0.0468 - val_accuracy: 0.9871\n",
            "Epoch 5/100\n",
            "239/240 [============================>.] - ETA: 0s - loss: 0.0082 - accuracy: 0.9972\n",
            "Epoch 00005: val_loss did not improve from 0.04386\n",
            "240/240 [==============================] - 11s 47ms/step - loss: 0.0082 - accuracy: 0.9972 - val_loss: 0.0617 - val_accuracy: 0.9862\n",
            "Epoch 6/100\n",
            "239/240 [============================>.] - ETA: 0s - loss: 0.0063 - accuracy: 0.9978\n",
            "Epoch 00006: val_loss did not improve from 0.04386\n",
            "240/240 [==============================] - 11s 47ms/step - loss: 0.0063 - accuracy: 0.9978 - val_loss: 0.0613 - val_accuracy: 0.9865\n",
            "Epoch 7/100\n",
            "240/240 [==============================] - ETA: 0s - loss: 0.0049 - accuracy: 0.9983\n",
            "Epoch 00007: val_loss did not improve from 0.04386\n",
            "240/240 [==============================] - 11s 47ms/step - loss: 0.0049 - accuracy: 0.9983 - val_loss: 0.0588 - val_accuracy: 0.9868\n",
            "Epoch 8/100\n",
            "239/240 [============================>.] - ETA: 0s - loss: 0.0025 - accuracy: 0.9992\n",
            "Epoch 00008: val_loss did not improve from 0.04386\n",
            "240/240 [==============================] - 11s 47ms/step - loss: 0.0025 - accuracy: 0.9992 - val_loss: 0.0609 - val_accuracy: 0.9885\n",
            "Epoch 9/100\n",
            "239/240 [============================>.] - ETA: 0s - loss: 0.0031 - accuracy: 0.9988\n",
            "Epoch 00009: val_loss did not improve from 0.04386\n",
            "240/240 [==============================] - 11s 47ms/step - loss: 0.0031 - accuracy: 0.9989 - val_loss: 0.0628 - val_accuracy: 0.9872\n",
            "Epoch 10/100\n",
            "239/240 [============================>.] - ETA: 0s - loss: 0.0042 - accuracy: 0.9987\n",
            "Epoch 00010: val_loss did not improve from 0.04386\n",
            "240/240 [==============================] - 11s 45ms/step - loss: 0.0042 - accuracy: 0.9987 - val_loss: 0.0657 - val_accuracy: 0.9871\n",
            "Epoch 11/100\n",
            "240/240 [==============================] - ETA: 0s - loss: 0.0054 - accuracy: 0.9981\n",
            "Epoch 00011: val_loss did not improve from 0.04386\n",
            "240/240 [==============================] - 11s 46ms/step - loss: 0.0054 - accuracy: 0.9981 - val_loss: 0.0669 - val_accuracy: 0.9877\n",
            "Epoch 12/100\n",
            "240/240 [==============================] - ETA: 0s - loss: 0.0026 - accuracy: 0.9993\n",
            "Epoch 00012: val_loss did not improve from 0.04386\n",
            "240/240 [==============================] - 11s 47ms/step - loss: 0.0026 - accuracy: 0.9993 - val_loss: 0.0571 - val_accuracy: 0.9901\n",
            "Epoch 13/100\n",
            "239/240 [============================>.] - ETA: 0s - loss: 6.0714e-04 - accuracy: 0.9998\n",
            "Epoch 00013: val_loss did not improve from 0.04386\n",
            "240/240 [==============================] - 11s 45ms/step - loss: 6.0594e-04 - accuracy: 0.9998 - val_loss: 0.0663 - val_accuracy: 0.9902\n"
          ]
        }
      ]
    },
    {
      "cell_type": "code",
      "source": [
        "best_model = load_model(model_path)\n",
        "best_model.evaluate(X_test, Y_test)"
      ],
      "metadata": {
        "colab": {
          "base_uri": "https://localhost:8080/"
        },
        "id": "3dn_pW3etdo_",
        "outputId": "ed6e4943-b563-42b1-d12b-62997ac40f09"
      },
      "execution_count": 10,
      "outputs": [
        {
          "output_type": "stream",
          "name": "stdout",
          "text": [
            "313/313 [==============================] - 2s 7ms/step - loss: 0.0395 - accuracy: 0.9879\n"
          ]
        },
        {
          "output_type": "execute_result",
          "data": {
            "text/plain": [
              "[0.03950772061944008, 0.9879000186920166]"
            ]
          },
          "metadata": {},
          "execution_count": 10
        }
      ]
    },
    {
      "cell_type": "code",
      "source": [
        ""
      ],
      "metadata": {
        "id": "WEWvYARDvVRe"
      },
      "execution_count": null,
      "outputs": []
    }
  ]
}