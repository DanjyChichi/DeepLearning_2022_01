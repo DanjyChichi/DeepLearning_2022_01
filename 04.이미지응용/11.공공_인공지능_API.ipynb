{
  "cells": [
    {
      "cell_type": "markdown",
      "metadata": {
        "id": "Ao6s8jaP_t6E"
      },
      "source": [
        "# 공공 인공지능 Open API 활용"
      ]
    },
    {
      "cell_type": "code",
      "execution_count": 2,
      "metadata": {
        "id": "dGk_BDrV_3Zd"
      },
      "outputs": [],
      "source": [
        "with open('etriaikey.txt') as f:\n",
        "    ai_key = f.read()"
      ]
    },
    {
      "cell_type": "markdown",
      "metadata": {
        "id": "w2GsxIn-FYAw"
      },
      "source": [
        "### 객체 검출"
      ]
    },
    {
      "cell_type": "markdown",
      "metadata": {
        "id": "hklvPEOJFrpX"
      },
      "source": [
        "- 하나의 이미지 검출"
      ]
    },
    {
      "cell_type": "code",
      "execution_count": 6,
      "metadata": {
        "colab": {
          "base_uri": "https://localhost:8080/",
          "height": 35
        },
        "id": "pQgFdIRbGZOY",
        "outputId": "63837086-55b9-475a-801b-9eb3c74547fd"
      },
      "outputs": [
        {
          "data": {
            "text/plain": [
              "'jfif'"
            ]
          },
          "execution_count": 6,
          "metadata": {},
          "output_type": "execute_result"
        }
      ],
      "source": [
        "img_file = 'image/cat.jfif'\n",
        "img_type = img_file.split('.')[-1]\n",
        "img_type"
      ]
    },
    {
      "cell_type": "code",
      "execution_count": 7,
      "metadata": {
        "id": "6gETJfw1GpnP"
      },
      "outputs": [],
      "source": [
        "# JFIF 타입은 JPG로 변경\n",
        "img_type = 'jpg' if img_type == 'jfif' else img_type"
      ]
    },
    {
      "cell_type": "code",
      "execution_count": 5,
      "metadata": {
        "id": "Jy8ERIuWFI5R"
      },
      "outputs": [],
      "source": [
        "import urllib3\n",
        "import json\n",
        "import base64\n",
        "openApiURL = \"http://aiopen.etri.re.kr:8000/ObjectDetect\""
      ]
    },
    {
      "cell_type": "code",
      "execution_count": 8,
      "metadata": {
        "id": "7Y0ztgC_G7Ny"
      },
      "outputs": [],
      "source": [
        "with open(img_file, \"rb\") as file:\n",
        "    image_contents = base64.b64encode(file.read()).decode(\"utf8\")"
      ]
    },
    {
      "cell_type": "code",
      "execution_count": 9,
      "metadata": {
        "id": "oRdG81EoIRXg"
      },
      "outputs": [],
      "source": [
        "requestJson = {\n",
        "    \"access_key\": ai_key,\n",
        "    \"argument\": {\n",
        "        \"type\": img_type,\n",
        "        \"file\": image_contents\n",
        "    }\n",
        "}"
      ]
    },
    {
      "cell_type": "code",
      "execution_count": 10,
      "metadata": {
        "colab": {
          "base_uri": "https://localhost:8080/",
          "height": 565
        },
        "id": "kiwuFVmRIiBS",
        "outputId": "c4cdea76-5894-4efe-bb11-d1f1b9d6a329"
      },
      "outputs": [],
      "source": [
        "http = urllib3.PoolManager()\n",
        "response = http.request(\n",
        "    \"POST\",\n",
        "    openApiURL,\n",
        "    headers={\"Content-Type\": \"application/json; charset=UTF-8\"},\n",
        "    body=json.dumps(requestJson)\n",
        ")"
      ]
    },
    {
      "cell_type": "code",
      "execution_count": 11,
      "metadata": {},
      "outputs": [
        {
          "data": {
            "text/plain": [
              "200"
            ]
          },
          "execution_count": 11,
          "metadata": {},
          "output_type": "execute_result"
        }
      ],
      "source": [
        "response.status"
      ]
    },
    {
      "cell_type": "code",
      "execution_count": 12,
      "metadata": {},
      "outputs": [
        {
          "data": {
            "text/plain": [
              "b'{\"result\":0,\"return_object\":{\"data\":[{\"class\":\"cat\",\"confidence\":\"0.995404\",\"x\":\"31\",\"y\":\"40\",\"width\":\"184\",\"height\":\"129\"}]}}'"
            ]
          },
          "execution_count": 12,
          "metadata": {},
          "output_type": "execute_result"
        }
      ],
      "source": [
        "response.data"
      ]
    },
    {
      "cell_type": "code",
      "execution_count": 14,
      "metadata": {},
      "outputs": [
        {
          "data": {
            "text/plain": [
              "{'result': 0,\n",
              " 'return_object': {'data': [{'class': 'cat',\n",
              "    'confidence': '0.995404',\n",
              "    'x': '31',\n",
              "    'y': '40',\n",
              "    'width': '184',\n",
              "    'height': '129'}]}}"
            ]
          },
          "execution_count": 14,
          "metadata": {},
          "output_type": "execute_result"
        }
      ],
      "source": [
        "result = json.loads(response.data)\n",
        "result"
      ]
    },
    {
      "cell_type": "code",
      "execution_count": 15,
      "metadata": {},
      "outputs": [
        {
          "data": {
            "text/plain": [
              "36"
            ]
          },
          "execution_count": 15,
          "metadata": {},
          "output_type": "execute_result"
        }
      ],
      "source": [
        "len(ai_key)"
      ]
    },
    {
      "cell_type": "code",
      "execution_count": 16,
      "metadata": {},
      "outputs": [
        {
          "data": {
            "text/plain": [
              "dict"
            ]
          },
          "execution_count": 16,
          "metadata": {},
          "output_type": "execute_result"
        }
      ],
      "source": [
        "type(result)"
      ]
    },
    {
      "cell_type": "code",
      "execution_count": 22,
      "metadata": {},
      "outputs": [
        {
          "data": {
            "text/plain": [
              "{'class': 'cat',\n",
              " 'confidence': '0.995404',\n",
              " 'x': '31',\n",
              " 'y': '40',\n",
              " 'width': '184',\n",
              " 'height': '129'}"
            ]
          },
          "execution_count": 22,
          "metadata": {},
          "output_type": "execute_result"
        }
      ],
      "source": [
        "obj_list = result['return_object']['data']\n",
        "obj_list[0]"
      ]
    },
    {
      "cell_type": "markdown",
      "metadata": {},
      "source": [
        "- 시각화"
      ]
    },
    {
      "cell_type": "code",
      "execution_count": 23,
      "metadata": {},
      "outputs": [],
      "source": [
        "from PIL import Image\n",
        "import matplotlib.pyplot as plt"
      ]
    },
    {
      "cell_type": "code",
      "execution_count": null,
      "metadata": {},
      "outputs": [],
      "source": [
        "img = Image.open(img_file)"
      ]
    }
  ],
  "metadata": {
    "colab": {
      "name": "11.공공_인공지능_API",
      "provenance": []
    },
    "kernelspec": {
      "display_name": "Python 3",
      "name": "python3"
    },
    "language_info": {
      "codemirror_mode": {
        "name": "ipython",
        "version": 3
      },
      "file_extension": ".py",
      "mimetype": "text/x-python",
      "name": "python",
      "nbconvert_exporter": "python",
      "pygments_lexer": "ipython3",
      "version": "3.9.7"
    }
  },
  "nbformat": 4,
  "nbformat_minor": 0
}
